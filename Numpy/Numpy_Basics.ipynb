{
  "nbformat": 4,
  "nbformat_minor": 0,
  "metadata": {
    "colab": {
      "provenance": [],
      "authorship_tag": "ABX9TyNdFoyVO41eM62uZAWdn5rR",
      "include_colab_link": true
    },
    "kernelspec": {
      "name": "python3",
      "display_name": "Python 3"
    },
    "language_info": {
      "name": "python"
    }
  },
  "cells": [
    {
      "cell_type": "markdown",
      "metadata": {
        "id": "view-in-github",
        "colab_type": "text"
      },
      "source": [
        "<a href=\"https://colab.research.google.com/github/Abhilash9432/Python-Notebooks/blob/main/Numpy/Numpy_Basics.ipynb\" target=\"_parent\"><img src=\"https://colab.research.google.com/assets/colab-badge.svg\" alt=\"Open In Colab\"/></a>"
      ]
    },
    {
      "cell_type": "code",
      "execution_count": 2,
      "metadata": {
        "id": "u56J2q9ea1BD"
      },
      "outputs": [],
      "source": [
        "import numpy as np"
      ]
    },
    {
      "cell_type": "code",
      "source": [
        "a = [1,2,3,4,5]\n",
        "res = [i**2 for i in a]\n",
        "print(res)\n",
        "print(type(a))"
      ],
      "metadata": {
        "colab": {
          "base_uri": "https://localhost:8080/"
        },
        "id": "QOz4BI-3bU5C",
        "outputId": "b1a5be0c-ac13-4d50-c94f-7bbeaff21c8c"
      },
      "execution_count": 3,
      "outputs": [
        {
          "output_type": "stream",
          "name": "stdout",
          "text": [
            "[1, 4, 9, 16, 25]\n",
            "<class 'list'>\n"
          ]
        }
      ]
    },
    {
      "cell_type": "code",
      "source": [
        "b=np.array(a)\n",
        "print(b)\n",
        "print(type(b))"
      ],
      "metadata": {
        "colab": {
          "base_uri": "https://localhost:8080/"
        },
        "id": "zqN36w3wb6y8",
        "outputId": "91a2f5c7-b7db-459a-d1d7-98399d75a497"
      },
      "execution_count": 4,
      "outputs": [
        {
          "output_type": "stream",
          "name": "stdout",
          "text": [
            "[1 2 3 4 5]\n",
            "<class 'numpy.ndarray'>\n"
          ]
        }
      ]
    },
    {
      "cell_type": "code",
      "source": [
        "#Numpy Oprations\n",
        "print(b**2) #loop not required to do element level operation\n",
        "print(b*2)\n",
        "print(b-2)\n",
        "print(b+2)\n",
        "print(b%2)"
      ],
      "metadata": {
        "colab": {
          "base_uri": "https://localhost:8080/"
        },
        "id": "KuG4PJfRcNPy",
        "outputId": "277c473e-ffe4-4c13-be96-a1653542a655"
      },
      "execution_count": 6,
      "outputs": [
        {
          "output_type": "stream",
          "name": "stdout",
          "text": [
            "[ 1  4  9 16 25]\n",
            "[ 2  4  6  8 10]\n",
            "[-1  0  1  2  3]\n",
            "[3 4 5 6 7]\n",
            "[1 0 1 0 1]\n"
          ]
        }
      ]
    },
    {
      "cell_type": "code",
      "source": [
        "veryBigRange = range(10000000)\n",
        "python_list = list(veryBigRange)\n",
        "np_array = np.array(veryBigRange)"
      ],
      "metadata": {
        "id": "ne9FxIo9ctOf"
      },
      "execution_count": 7,
      "outputs": []
    },
    {
      "cell_type": "code",
      "source": [
        "%timeit [i**2 for i in python_list]"
      ],
      "metadata": {
        "colab": {
          "base_uri": "https://localhost:8080/"
        },
        "id": "a01F8C5ddOps",
        "outputId": "a9f06d4d-834e-4849-babe-9db58db5d475"
      },
      "execution_count": 8,
      "outputs": [
        {
          "output_type": "stream",
          "name": "stdout",
          "text": [
            "3.46 s ± 559 ms per loop (mean ± std. dev. of 7 runs, 1 loop each)\n"
          ]
        }
      ]
    },
    {
      "cell_type": "code",
      "source": [
        "%timeit np_array**2"
      ],
      "metadata": {
        "colab": {
          "base_uri": "https://localhost:8080/"
        },
        "id": "Z7-I2YT-dfeI",
        "outputId": "bde4a50d-0e25-45fe-8ab7-ea1ef482dcc6"
      },
      "execution_count": 9,
      "outputs": [
        {
          "output_type": "stream",
          "name": "stdout",
          "text": [
            "25.9 ms ± 529 µs per loop (mean ± std. dev. of 7 runs, 10 loops each)\n"
          ]
        }
      ]
    },
    {
      "cell_type": "code",
      "source": [
        "a=[1,2,3,4,5]\n",
        "print(type(a))\n",
        "print(a[1])\n",
        "print(a[-2])\n",
        "print(a[1:4])"
      ],
      "metadata": {
        "colab": {
          "base_uri": "https://localhost:8080/"
        },
        "id": "Il3Jdhd1dxeg",
        "outputId": "fea974b6-d7bd-4c00-b655-ab44b4b3b507"
      },
      "execution_count": 12,
      "outputs": [
        {
          "output_type": "stream",
          "name": "stdout",
          "text": [
            "<class 'list'>\n",
            "2\n",
            "4\n",
            "[2, 3, 4]\n"
          ]
        }
      ]
    },
    {
      "cell_type": "code",
      "source": [
        "b = np.array([1,2,3,4,5])\n",
        "print(type(b))\n",
        "print(b[1])\n",
        "print(b[-2])\n",
        "print(b[1:4])"
      ],
      "metadata": {
        "colab": {
          "base_uri": "https://localhost:8080/"
        },
        "id": "zUrAw0QeeBqG",
        "outputId": "71036477-5367-4361-f7b0-1e47b10bd67f"
      },
      "execution_count": 11,
      "outputs": [
        {
          "output_type": "stream",
          "name": "stdout",
          "text": [
            "<class 'numpy.ndarray'>\n",
            "2\n",
            "4\n",
            "[2 3 4]\n"
          ]
        }
      ]
    },
    {
      "cell_type": "code",
      "source": [
        "arr = np.array([1,2,3,4,5,6,7])\n",
        "print(arr)\n",
        "print(type(arr)) # what is the type of the variable\n",
        "print(len(arr)) # what is the len, same as len in python list\n",
        "print(arr.ndim) # total num of dimensions\n",
        "print(arr.shape) # what is the shape, like rows and columns\n",
        "print(arr.size) # total num of elements\n",
        "print(arr.dtype) # what data type will it store"
      ],
      "metadata": {
        "colab": {
          "base_uri": "https://localhost:8080/"
        },
        "id": "mYio7URNeYS2",
        "outputId": "e5f066e5-e1ae-4515-c792-4684c7c926c0"
      },
      "execution_count": 13,
      "outputs": [
        {
          "output_type": "stream",
          "name": "stdout",
          "text": [
            "[1 2 3 4 5 6 7]\n",
            "<class 'numpy.ndarray'>\n",
            "7\n",
            "1\n",
            "(7,)\n",
            "7\n",
            "int64\n"
          ]
        }
      ]
    },
    {
      "cell_type": "code",
      "source": [
        "arr = np.array([[1,2,3],[4,5,6],[7,8,9],[10,11,12]])\n",
        "print(arr)\n",
        "print(type(arr)) # what is the type of the variable\n",
        "print(len(arr)) # what is the len, same as len in python list\n",
        "print(arr.ndim) # total num of dimensions\n",
        "print(arr.shape) # what is the shape, like rows and columns\n",
        "print(arr.size) # total num of elements\n",
        "print(arr.dtype) # what data type will it store"
      ],
      "metadata": {
        "colab": {
          "base_uri": "https://localhost:8080/"
        },
        "id": "coOQzPp1fEjA",
        "outputId": "700b6257-77df-4ceb-d4d0-798c2c3c0356"
      },
      "execution_count": 14,
      "outputs": [
        {
          "output_type": "stream",
          "name": "stdout",
          "text": [
            "[[ 1  2  3]\n",
            " [ 4  5  6]\n",
            " [ 7  8  9]\n",
            " [10 11 12]]\n",
            "<class 'numpy.ndarray'>\n",
            "4\n",
            "2\n",
            "(4, 3)\n",
            "12\n",
            "int64\n"
          ]
        }
      ]
    },
    {
      "cell_type": "code",
      "source": [
        "arr= np.array([1.2,3.7,2.3,5.8,8.3,7.2])\n",
        "print(arr)\n",
        "print(type(arr)) # what is the type of the variable\n",
        "print(len(arr)) # what is the len, same as len in python list\n",
        "print(arr.ndim) # total num of dimensions\n",
        "print(arr.shape) # what is the shape, like rows and columns\n",
        "print(arr.size) # total num of elements\n",
        "print(arr.dtype) # what data type will it store\n"
      ],
      "metadata": {
        "colab": {
          "base_uri": "https://localhost:8080/"
        },
        "id": "y7mj6pKnIdul",
        "outputId": "ac457bb0-f6ce-4148-96bf-b18fd1e07cfb"
      },
      "execution_count": 3,
      "outputs": [
        {
          "output_type": "stream",
          "name": "stdout",
          "text": [
            "[1.2 3.7 2.3 5.8 8.3 7.2]\n",
            "<class 'numpy.ndarray'>\n",
            "6\n",
            "1\n",
            "(6,)\n",
            "6\n",
            "float64\n"
          ]
        }
      ]
    },
    {
      "cell_type": "code",
      "source": [
        "print(list(range(5)))\n",
        "print(list(range(2,5)))\n",
        "print(list(range(2,10,2)))"
      ],
      "metadata": {
        "colab": {
          "base_uri": "https://localhost:8080/"
        },
        "id": "CdoyOUh_JdMf",
        "outputId": "94aea394-addc-4a4f-dea5-e3270a2c218e"
      },
      "execution_count": 6,
      "outputs": [
        {
          "output_type": "stream",
          "name": "stdout",
          "text": [
            "[0, 1, 2, 3, 4]\n",
            "[2, 3, 4]\n",
            "[2, 4, 6, 8]\n"
          ]
        }
      ]
    },
    {
      "cell_type": "code",
      "source": [
        "#start,end,step should be int\n",
        "print(list(range(1,10,2.5)))"
      ],
      "metadata": {
        "colab": {
          "base_uri": "https://localhost:8080/",
          "height": 141
        },
        "id": "OIpC5Q45JyW6",
        "outputId": "1544531d-7c3b-4c88-d4e4-51fa09ed7e59"
      },
      "execution_count": 7,
      "outputs": [
        {
          "output_type": "error",
          "ename": "TypeError",
          "evalue": "'float' object cannot be interpreted as an integer",
          "traceback": [
            "\u001b[0;31m---------------------------------------------------------------------------\u001b[0m",
            "\u001b[0;31mTypeError\u001b[0m                                 Traceback (most recent call last)",
            "\u001b[0;32m<ipython-input-7-26cf487e1b50>\u001b[0m in \u001b[0;36m<cell line: 1>\u001b[0;34m()\u001b[0m\n\u001b[0;32m----> 1\u001b[0;31m \u001b[0mprint\u001b[0m\u001b[0;34m(\u001b[0m\u001b[0mlist\u001b[0m\u001b[0;34m(\u001b[0m\u001b[0mrange\u001b[0m\u001b[0;34m(\u001b[0m\u001b[0;36m1\u001b[0m\u001b[0;34m,\u001b[0m\u001b[0;36m10\u001b[0m\u001b[0;34m,\u001b[0m\u001b[0;36m2.5\u001b[0m\u001b[0;34m)\u001b[0m\u001b[0;34m)\u001b[0m\u001b[0;34m)\u001b[0m\u001b[0;34m\u001b[0m\u001b[0;34m\u001b[0m\u001b[0m\n\u001b[0m",
            "\u001b[0;31mTypeError\u001b[0m: 'float' object cannot be interpreted as an integer"
          ]
        }
      ]
    },
    {
      "cell_type": "code",
      "source": [
        "print(np.arange(5))\n",
        "print(np.arange(1,4))\n",
        "print(np.arange(2,10,2))\n",
        "print(np.arange(2,10,1.5)) #start,end,step can be int/float"
      ],
      "metadata": {
        "colab": {
          "base_uri": "https://localhost:8080/"
        },
        "id": "S-U0kjl_J8L0",
        "outputId": "421fa954-853f-4023-d7d8-d3fb2a565de3"
      },
      "execution_count": 11,
      "outputs": [
        {
          "output_type": "stream",
          "name": "stdout",
          "text": [
            "[0 1 2 3 4]\n",
            "[1 2 3]\n",
            "[2 4 6 8]\n",
            "[2.  3.5 5.  6.5 8.  9.5]\n"
          ]
        }
      ]
    },
    {
      "cell_type": "code",
      "source": [
        "#linspace to get linearly spaced numbers, need to give start, end and no of samples required\n",
        "arr = np.linspace(2,10,8)\n",
        "print(arr)\n",
        "print(arr[1]-arr[0])\n",
        "print(arr[2]-arr[1])\n",
        "print(arr[3]-arr[2])"
      ],
      "metadata": {
        "colab": {
          "base_uri": "https://localhost:8080/"
        },
        "id": "fS0K8HvBKrxY",
        "outputId": "e4e2f307-eb9a-473d-fbd9-652bdae9d67d"
      },
      "execution_count": 14,
      "outputs": [
        {
          "output_type": "stream",
          "name": "stdout",
          "text": [
            "[ 2.          3.14285714  4.28571429  5.42857143  6.57142857  7.71428571\n",
            "  8.85714286 10.        ]\n",
            "1.1428571428571428\n",
            "1.1428571428571428\n",
            "1.1428571428571432\n"
          ]
        }
      ]
    },
    {
      "cell_type": "code",
      "source": [
        "lst = [1,2,3,4,5]\n",
        "print(lst)\n",
        "arr = np.array(lst)\n",
        "print(arr)\n",
        "print(arr.dtype)"
      ],
      "metadata": {
        "colab": {
          "base_uri": "https://localhost:8080/"
        },
        "id": "a1oZKZTPLZ_D",
        "outputId": "779952a5-0da7-4ab4-9256-c434b14a1be9"
      },
      "execution_count": 15,
      "outputs": [
        {
          "output_type": "stream",
          "name": "stdout",
          "text": [
            "[1, 2, 3, 4, 5]\n",
            "[1 2 3 4 5]\n",
            "int64\n"
          ]
        }
      ]
    },
    {
      "cell_type": "code",
      "source": [
        "lst = [1,2,3,4,5.2]\n",
        "print(lst)\n",
        "arr = np.array(lst)\n",
        "print(arr)\n",
        "print(arr.dtype)"
      ],
      "metadata": {
        "colab": {
          "base_uri": "https://localhost:8080/"
        },
        "id": "OevWfCsIMgyT",
        "outputId": "79e7d8f8-589e-42db-bfb3-603716390f20"
      },
      "execution_count": 16,
      "outputs": [
        {
          "output_type": "stream",
          "name": "stdout",
          "text": [
            "[1, 2, 3, 4, 5.2]\n",
            "[1.  2.  3.  4.  5.2]\n",
            "float64\n"
          ]
        }
      ]
    },
    {
      "cell_type": "code",
      "source": [
        "lst = [1,2,'cat',4,5]\n",
        "print(lst)\n",
        "arr = np.array(lst)\n",
        "print(arr)\n",
        "print(arr.dtype)"
      ],
      "metadata": {
        "colab": {
          "base_uri": "https://localhost:8080/"
        },
        "id": "WXR1MIIvMkZg",
        "outputId": "b245404c-f55a-4776-bf0a-c09c648dc22a"
      },
      "execution_count": 18,
      "outputs": [
        {
          "output_type": "stream",
          "name": "stdout",
          "text": [
            "[1, 2, 'cat', 4, 5]\n",
            "['1' '2' 'cat' '4' '5']\n",
            "<U21\n"
          ]
        }
      ]
    },
    {
      "cell_type": "code",
      "source": [
        "lst = [1,2,3,4,5]\n",
        "print(lst)\n",
        "arr = np.array(lst,dtype = float)\n",
        "print(arr)\n",
        "print(arr.dtype)"
      ],
      "metadata": {
        "colab": {
          "base_uri": "https://localhost:8080/"
        },
        "id": "6X878dR0MusF",
        "outputId": "da41dce7-0707-444f-ceb0-dfea072e2e96"
      },
      "execution_count": 20,
      "outputs": [
        {
          "output_type": "stream",
          "name": "stdout",
          "text": [
            "[1, 2, 3, 4, 5]\n",
            "[1. 2. 3. 4. 5.]\n",
            "float64\n"
          ]
        }
      ]
    },
    {
      "cell_type": "code",
      "source": [
        "#astype function >> type casting\n",
        "lst = [1,2,3,4,5]\n",
        "print(lst)\n",
        "arr = np.array(lst)\n",
        "print(arr)\n",
        "print(arr.dtype)\n",
        "arr = arr.astype(float)\n",
        "print(arr)\n",
        "print(arr.dtype)"
      ],
      "metadata": {
        "colab": {
          "base_uri": "https://localhost:8080/"
        },
        "id": "ICrhYt7oNCqa",
        "outputId": "1d58dd19-763b-4359-d184-30005d4b198e"
      },
      "execution_count": 22,
      "outputs": [
        {
          "output_type": "stream",
          "name": "stdout",
          "text": [
            "[1, 2, 3, 4, 5]\n",
            "[1 2 3 4 5]\n",
            "int64\n",
            "[1. 2. 3. 4. 5.]\n",
            "float64\n"
          ]
        }
      ]
    },
    {
      "cell_type": "code",
      "source": [
        "arr=np.array([10,20,30,40,50,-40,-30,-20,-10])\n",
        "print(arr)"
      ],
      "metadata": {
        "colab": {
          "base_uri": "https://localhost:8080/"
        },
        "id": "UccfD_r2N1eJ",
        "outputId": "3a8a98f2-9f54-482a-8d84-cb0e2b380545"
      },
      "execution_count": 23,
      "outputs": [
        {
          "output_type": "stream",
          "name": "stdout",
          "text": [
            "[ 10  20  30  40  50 -40 -30 -20 -10]\n"
          ]
        }
      ]
    },
    {
      "cell_type": "code",
      "source": [
        "print(arr[1])\n",
        "print(arr[-2])\n",
        "print(arr[1:7])"
      ],
      "metadata": {
        "colab": {
          "base_uri": "https://localhost:8080/"
        },
        "id": "pV6bIX18OKtK",
        "outputId": "b96bba50-c30b-403e-d02c-8e27da4d22e9"
      },
      "execution_count": 24,
      "outputs": [
        {
          "output_type": "stream",
          "name": "stdout",
          "text": [
            "20\n",
            "-20\n",
            "[ 20  30  40  50 -40 -30]\n"
          ]
        }
      ]
    },
    {
      "cell_type": "code",
      "source": [
        "print(arr[1],arr[3],arr[0],arr[-1])\n",
        "print(arr[[1,3,0,-1]]) #need to use double bracket [[]] else will get error like in next snippet"
      ],
      "metadata": {
        "colab": {
          "base_uri": "https://localhost:8080/"
        },
        "id": "eZdoj5qmOaV1",
        "outputId": "999d13de-fcc4-490c-877e-44a1fb997450"
      },
      "execution_count": 26,
      "outputs": [
        {
          "output_type": "stream",
          "name": "stdout",
          "text": [
            "20 40 10 -10\n",
            "[ 20  40  10 -10]\n"
          ]
        }
      ]
    },
    {
      "cell_type": "code",
      "source": [
        "print(arr[1,3,0,1])"
      ],
      "metadata": {
        "colab": {
          "base_uri": "https://localhost:8080/",
          "height": 141
        },
        "id": "R3QFUxR6O5L3",
        "outputId": "6ba8e7b1-fe90-439d-d20b-f6d2407e75c2"
      },
      "execution_count": 28,
      "outputs": [
        {
          "output_type": "error",
          "ename": "IndexError",
          "evalue": "too many indices for array: array is 1-dimensional, but 4 were indexed",
          "traceback": [
            "\u001b[0;31m---------------------------------------------------------------------------\u001b[0m",
            "\u001b[0;31mIndexError\u001b[0m                                Traceback (most recent call last)",
            "\u001b[0;32m<ipython-input-28-1e320d6f4001>\u001b[0m in \u001b[0;36m<cell line: 1>\u001b[0;34m()\u001b[0m\n\u001b[0;32m----> 1\u001b[0;31m \u001b[0mprint\u001b[0m\u001b[0;34m(\u001b[0m\u001b[0marr\u001b[0m\u001b[0;34m[\u001b[0m\u001b[0;36m1\u001b[0m\u001b[0;34m,\u001b[0m\u001b[0;36m3\u001b[0m\u001b[0;34m,\u001b[0m\u001b[0;36m0\u001b[0m\u001b[0;34m,\u001b[0m\u001b[0;36m1\u001b[0m\u001b[0;34m]\u001b[0m\u001b[0;34m)\u001b[0m\u001b[0;34m\u001b[0m\u001b[0;34m\u001b[0m\u001b[0m\n\u001b[0m",
            "\u001b[0;31mIndexError\u001b[0m: too many indices for array: array is 1-dimensional, but 4 were indexed"
          ]
        }
      ]
    },
    {
      "cell_type": "code",
      "source": [
        "# fancy indexing\n",
        "arr = np.array([0,10,20,30,40,50,-40,-30,-20,-10])\n",
        "print(arr)\n"
      ],
      "metadata": {
        "colab": {
          "base_uri": "https://localhost:8080/"
        },
        "id": "UZRqiccJPgBC",
        "outputId": "f0f1cc53-4d38-4850-9d45-1a23891affc4"
      },
      "execution_count": 29,
      "outputs": [
        {
          "output_type": "stream",
          "name": "stdout",
          "text": [
            "[  0  10  20  30  40  50 -40 -30 -20 -10]\n"
          ]
        }
      ]
    },
    {
      "cell_type": "code",
      "source": [
        "arr>20"
      ],
      "metadata": {
        "colab": {
          "base_uri": "https://localhost:8080/"
        },
        "id": "NIjoaC7JPPl1",
        "outputId": "468beebd-5c4f-44f7-813f-b1fd3b2b41b8"
      },
      "execution_count": 30,
      "outputs": [
        {
          "output_type": "execute_result",
          "data": {
            "text/plain": [
              "array([False, False, False,  True,  True,  True, False, False, False,\n",
              "       False])"
            ]
          },
          "metadata": {},
          "execution_count": 30
        }
      ]
    },
    {
      "cell_type": "code",
      "source": [
        "arr[[False, False, False,  True,  True,  True, False, False, False,\n",
        "       False]]"
      ],
      "metadata": {
        "colab": {
          "base_uri": "https://localhost:8080/"
        },
        "id": "qNwjXbdBPxyw",
        "outputId": "570a54c8-f51b-42a2-acfa-b77fe964be31"
      },
      "execution_count": 31,
      "outputs": [
        {
          "output_type": "execute_result",
          "data": {
            "text/plain": [
              "array([30, 40, 50])"
            ]
          },
          "metadata": {},
          "execution_count": 31
        }
      ]
    },
    {
      "cell_type": "code",
      "source": [
        "arr[arr>20]"
      ],
      "metadata": {
        "colab": {
          "base_uri": "https://localhost:8080/"
        },
        "id": "MTgdnez8P50Q",
        "outputId": "64dae123-4a1d-46bc-c598-25a6fb615daf"
      },
      "execution_count": 32,
      "outputs": [
        {
          "output_type": "execute_result",
          "data": {
            "text/plain": [
              "array([30, 40, 50])"
            ]
          },
          "metadata": {},
          "execution_count": 32
        }
      ]
    },
    {
      "cell_type": "code",
      "source": [
        "arr = np.arange(1,10)\n",
        "print(arr)\n",
        "print(\"Even Numbers: \",arr[arr%2==0])\n",
        "print(\"Odd Numbers: \",arr[arr%2==1])"
      ],
      "metadata": {
        "colab": {
          "base_uri": "https://localhost:8080/"
        },
        "id": "IBG0WepLP-VP",
        "outputId": "39bcd27a-625c-4afb-8807-8ae7bf8fdca8"
      },
      "execution_count": 34,
      "outputs": [
        {
          "output_type": "stream",
          "name": "stdout",
          "text": [
            "[1 2 3 4 5 6 7 8 9]\n",
            "Even Numbers:  [2 4 6 8]\n",
            "Odd Numbers:  [1 3 5 7 9]\n"
          ]
        }
      ]
    },
    {
      "cell_type": "code",
      "source": [
        "file_loc = 'https://gist.github.com/singhsidhukuldeep/8190b6dbb2d6d7f8acc6110e2d60c9d2/raw/7a9db1f2241f7df1ec4ce31ffa4a1c2bc4144e83/survey.txt'\n",
        "score = np.loadtxt(file_loc, dtype = 'int')\n",
        "print(score)\n",
        "print(type(score))\n",
        "print(score.dtype)\n",
        "print(score.size)\n",
        "print(score.shape)"
      ],
      "metadata": {
        "colab": {
          "base_uri": "https://localhost:8080/"
        },
        "id": "3KwvdN1-QVbH",
        "outputId": "d456ae27-1b1a-48de-dd1e-7878a735ca7e"
      },
      "execution_count": 37,
      "outputs": [
        {
          "output_type": "stream",
          "name": "stdout",
          "text": [
            "[ 7 10  5 ...  5  9 10]\n",
            "<class 'numpy.ndarray'>\n",
            "int64\n",
            "1167\n",
            "(1167,)\n"
          ]
        }
      ]
    },
    {
      "cell_type": "code",
      "source": [
        "\n",
        "# 9-10>> promoters\n",
        "# 7-8 >> netutral users/passive\n",
        "# 0-6 >> detractors\n",
        "\n",
        "promoters = score[score>=9]\n",
        "print(promoters[:5])\n",
        "num_promoters = len(promoters)\n",
        "print(num_promoters)\n",
        "percent_promoters = (num_promoters/len(score))*100\n",
        "print(percent_promoters)"
      ],
      "metadata": {
        "colab": {
          "base_uri": "https://localhost:8080/"
        },
        "id": "rZy_TFlASBuN",
        "outputId": "0a3b63e6-da57-45d8-d192-07dbb6b174f6"
      },
      "execution_count": 42,
      "outputs": [
        {
          "output_type": "stream",
          "name": "stdout",
          "text": [
            "[10  9  9  9  9]\n",
            "609\n",
            "52.185089974293064\n"
          ]
        }
      ]
    },
    {
      "cell_type": "code",
      "source": [
        "detractors = score[score<=6]\n",
        "print(detractors[:5])\n",
        "num_detractors = len(detractors)\n",
        "print(num_detractors)\n",
        "percent_detractors = (num_detractors/len(score))*100\n",
        "print(percent_detractors)"
      ],
      "metadata": {
        "colab": {
          "base_uri": "https://localhost:8080/"
        },
        "id": "b9P3i4ZdTAHu",
        "outputId": "5d423b14-cf5e-4034-9620-3d8bcf55afcc"
      },
      "execution_count": 43,
      "outputs": [
        {
          "output_type": "stream",
          "name": "stdout",
          "text": [
            "[5 4 4 5 1]\n",
            "332\n",
            "28.449014567266495\n"
          ]
        }
      ]
    },
    {
      "cell_type": "code",
      "source": [
        "#NET PROMOTER SCORE\n",
        "NPS = percent_promoters-percent_detractors\n",
        "print(NPS)\n",
        "print(round(NPS,2))"
      ],
      "metadata": {
        "colab": {
          "base_uri": "https://localhost:8080/"
        },
        "id": "J3C4j_JsTTFH",
        "outputId": "ebecce00-92ab-4b36-d577-7ea5c1efb7cf"
      },
      "execution_count": 45,
      "outputs": [
        {
          "output_type": "stream",
          "name": "stdout",
          "text": [
            "23.73607540702657\n",
            "23.74\n"
          ]
        }
      ]
    }
  ]
}